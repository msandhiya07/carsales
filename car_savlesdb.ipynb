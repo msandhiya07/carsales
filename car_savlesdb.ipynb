{
  "nbformat": 4,
  "nbformat_minor": 0,
  "metadata": {
    "colab": {
      "provenance": [],
      "authorship_tag": "ABX9TyMJI/c76xJ1YltGkDnJA204",
      "include_colab_link": true
    },
    "kernelspec": {
      "name": "python3",
      "display_name": "Python 3"
    },
    "language_info": {
      "name": "python"
    }
  },
  "cells": [
    {
      "cell_type": "markdown",
      "metadata": {
        "id": "view-in-github",
        "colab_type": "text"
      },
      "source": [
        "<a href=\"https://colab.research.google.com/github/msandhiya07/carsales/blob/main/car_savlesdb.ipynb\" target=\"_parent\"><img src=\"https://colab.research.google.com/assets/colab-badge.svg\" alt=\"Open In Colab\"/></a>"
      ]
    },
    {
      "cell_type": "markdown",
      "source": [
        "#Animal db FOR ANALYSIS"
      ],
      "metadata": {
        "id": "hhduVEb0J0RR"
      }
    },
    {
      "cell_type": "code",
      "source": [
        "import pandas as pd\n",
        "d=pd.read_csv(\"/content/Car_sales (2).csv\")\n",
        "df=pd.DataFrame()\n",
        "print(d)"
      ],
      "metadata": {
        "colab": {
          "base_uri": "https://localhost:8080/"
        },
        "id": "ZLHDPf9GJ5vw",
        "outputId": "f59a5c48-c114-43bd-a50b-dd27471b7009"
      },
      "execution_count": 4,
      "outputs": [
        {
          "output_type": "stream",
          "name": "stdout",
          "text": [
            "    Manufacturer    Model  Sales_in_thousands  __year_resale_value  \\\n",
            "0          Acura  Integra              16.919               16.360   \n",
            "1          Acura       TL              39.384               19.875   \n",
            "2          Acura       CL              14.114               18.225   \n",
            "3          Acura       RL               8.588               29.725   \n",
            "4           Audi       A4              20.397               22.255   \n",
            "..           ...      ...                 ...                  ...   \n",
            "152        Volvo      V40               3.545                  NaN   \n",
            "153        Volvo      S70              15.245                  NaN   \n",
            "154        Volvo      V70              17.531                  NaN   \n",
            "155        Volvo      C70               3.493                  NaN   \n",
            "156        Volvo      S80              18.969                  NaN   \n",
            "\n",
            "    Vehicle_type  Price_in_thousands  Engine_size  Horsepower  Wheelbase  \\\n",
            "0      Passenger               21.50          1.8       140.0      101.2   \n",
            "1      Passenger               28.40          3.2       225.0      108.1   \n",
            "2      Passenger                 NaN          3.2       225.0      106.9   \n",
            "3      Passenger               42.00          3.5       210.0      114.6   \n",
            "4      Passenger               23.99          1.8       150.0      102.6   \n",
            "..           ...                 ...          ...         ...        ...   \n",
            "152    Passenger               24.40          1.9       160.0      100.5   \n",
            "153    Passenger               27.50          2.4       168.0      104.9   \n",
            "154    Passenger               28.80          2.4       168.0      104.9   \n",
            "155    Passenger               45.50          2.3       236.0      104.9   \n",
            "156    Passenger               36.00          2.9       201.0      109.9   \n",
            "\n",
            "     Width  Length  Curb_weight  Fuel_capacity  Fuel_efficiency Latest_Launch  \\\n",
            "0     67.3   172.4        2.639           13.2             28.0      2/2/2012   \n",
            "1     70.3   192.9        3.517           17.2             25.0      6/3/2011   \n",
            "2     70.6   192.0        3.470           17.2             26.0      1/4/2012   \n",
            "3     71.4   196.6        3.850           18.0             22.0     3/10/2011   \n",
            "4     68.2   178.0        2.998           16.4             27.0     10/8/2011   \n",
            "..     ...     ...          ...            ...              ...           ...   \n",
            "152   67.6   176.6        3.042           15.8             25.0     9/21/2011   \n",
            "153   69.3   185.9        3.208           17.9             25.0    11/24/2012   \n",
            "154   69.3   186.2        3.259           17.9             25.0     6/25/2011   \n",
            "155   71.5   185.7        3.601           18.5             23.0     4/26/2011   \n",
            "156   72.1   189.8        3.600           21.1             24.0    11/14/2011   \n",
            "\n",
            "     Power_perf_factor  \n",
            "0            58.280150  \n",
            "1            91.370778  \n",
            "2                  NaN  \n",
            "3            91.389779  \n",
            "4            62.777639  \n",
            "..                 ...  \n",
            "152          66.498812  \n",
            "153          70.654495  \n",
            "154          71.155978  \n",
            "155         101.623357  \n",
            "156          85.735655  \n",
            "\n",
            "[157 rows x 16 columns]\n"
          ]
        }
      ]
    },
    {
      "cell_type": "code",
      "source": [
        "print(\"HHHIIIIII\")"
      ],
      "metadata": {
        "id": "gDV2-r2NKfh4",
        "colab": {
          "base_uri": "https://localhost:8080/"
        },
        "outputId": "dd5d05fa-1b2d-4e1b-f079-ec589fba245a"
      },
      "execution_count": 3,
      "outputs": [
        {
          "output_type": "stream",
          "name": "stdout",
          "text": [
            "HHHIIIIII\n"
          ]
        }
      ]
    },
    {
      "cell_type": "code",
      "source": [],
      "metadata": {
        "id": "zpLCKAk9Kp2B"
      },
      "execution_count": null,
      "outputs": []
    },
    {
      "cell_type": "code",
      "source": [
        "\n",
        "#1. Which animal in the dataset has the longest gestation period, and how long is it?\n",
        "#2. What is the average lifespan of the African Elephant according to the dataset?\n",
        "#3. Name three animals from the dataset classified as \"Vulnerable\" in conservation status.\n",
        "#4. Which habitats are shared by the African Lion and the Aardwolf?\n",
        "#5. What is the top speed of the African Lion, and how does it compare to its average speed?\n",
        "#6. Which animals in the dataset are primarily insectivores?\n",
        "#7. What is the most common predator listed for animals found in savannahs?\n",
        "#8. Compare the social structures of the African Elephant and African Wild Dog.\n",
        "#9. Which animal has the highest top speed in the dataset, and what is that speed?\n",
        "#10. Based on the dataset, name an animal that is multicolored and its corresponding habitat."
      ],
      "metadata": {
        "id": "WeJ8etc2fiKi"
      },
      "execution_count": null,
      "outputs": []
    }
  ]
}